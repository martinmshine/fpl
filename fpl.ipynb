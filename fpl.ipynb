{
 "cells": [
  {
   "cell_type": "code",
   "execution_count": 17,
   "metadata": {},
   "outputs": [],
   "source": [
    "import pandas as pd\n",
    "import requests \n",
    "import json"
   ]
  },
  {
   "cell_type": "code",
   "execution_count": 109,
   "metadata": {},
   "outputs": [],
   "source": [
    "#538 Ratings\n",
    "ratings = pd.read_csv('https://projects.fivethirtyeight.com/soccer-api/club/spi_global_rankings.csv')\n",
    "ratings = ratings[ratings.league=='Barclays Premier League']\n",
    "ratings = ratings[['name','off','def','spi']].sort_values(by='name')\n",
    "ratings['short_name'] = ['BOU','ARS','AVL','BRE','BHA','CHE','CRY','EVE','FUL','LEE','LEI','LIV','MCI','MUN','NEW','NFO','SOU','TOT','WHU','WOL']\n",
    "ratings.drop(columns=['name'],inplace=True)"
   ]
  },
  {
   "cell_type": "code",
   "execution_count": 110,
   "metadata": {},
   "outputs": [
    {
     "name": "stdout",
     "output_type": "stream",
     "text": [
      "200\n"
     ]
    }
   ],
   "source": [
    "#Teams info - FPL\n",
    "response_API = requests.get('https://fantasy.premierleague.com/api/bootstrap-static/')\n",
    "print(response_API.status_code)\n",
    "\n",
    "data = response_API.text\n",
    "json_obj = json.loads(data)\n",
    "teams = pd.DataFrame.from_dict(json_obj['teams'])\n",
    "teams = teams[['id','name','short_name']]"
   ]
  },
  {
   "cell_type": "code",
   "execution_count": 111,
   "metadata": {},
   "outputs": [],
   "source": [
    "#Join ratings to teams data\n",
    "teams = pd.merge(teams,ratings,how=\"left\",on=\"short_name\")"
   ]
  },
  {
   "cell_type": "code",
   "execution_count": 137,
   "metadata": {},
   "outputs": [
    {
     "name": "stdout",
     "output_type": "stream",
     "text": [
      "200\n"
     ]
    }
   ],
   "source": [
    "#Fixures  - FPL\n",
    "response_API = requests.get('https://fantasy.premierleague.com/api/fixtures/')\n",
    "print(response_API.status_code)\n",
    "\n",
    "data = response_API.text\n",
    "data_json=json.loads(data)\n",
    "fixtures = pd.read_json(data)\n",
    "fixtures = fixtures[['event','team_a','team_h']]"
   ]
  },
  {
   "cell_type": "code",
   "execution_count": 138,
   "metadata": {},
   "outputs": [],
   "source": [
    "#Merge fixtures and teams info\n",
    "teams_h = teams.add_suffix('_home')\n",
    "teams_a = teams.add_suffix('_away')\n",
    "fixtures = pd.merge(fixtures,teams_h,left_on=\"team_h\",right_on=\"id_home\").drop(columns=['team_h'])\n",
    "fixtures = pd.merge(fixtures,teams_a,left_on=\"team_a\",right_on=\"id_away\").drop(columns=['team_a'])"
   ]
  }
 ],
 "metadata": {
  "kernelspec": {
   "display_name": "Python 3.9.12",
   "language": "python",
   "name": "python3"
  },
  "language_info": {
   "codemirror_mode": {
    "name": "ipython",
    "version": 3
   },
   "file_extension": ".py",
   "mimetype": "text/x-python",
   "name": "python",
   "nbconvert_exporter": "python",
   "pygments_lexer": "ipython3",
   "version": "3.9.12"
  },
  "orig_nbformat": 4,
  "vscode": {
   "interpreter": {
    "hash": "ef95919d16a3ec4a9b494523eeb0879d96cea706ca64889dd463445503652fa1"
   }
  }
 },
 "nbformat": 4,
 "nbformat_minor": 2
}
